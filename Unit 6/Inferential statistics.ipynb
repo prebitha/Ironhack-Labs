{
 "cells": [
  {
   "cell_type": "markdown",
   "id": "proud-atlanta",
   "metadata": {},
   "source": [
    "## part 1 \n",
    "In a packing plant, a machine packs cartons with jars. It is supposed that a new machine will pack faster on the average than the machine currently used. To test that hypothesis, the times it takes each machine to pack ten cartons are recorded. The results, in seconds, are shown in the tables in the file files_for_lab/machine.txt. Assume that there is sufficient evidence to conduct the t test, does the data provide sufficient evidence to show if one machine is better than the other"
   ]
  },
  {
   "cell_type": "code",
   "execution_count": 48,
   "id": "signal-disposal",
   "metadata": {},
   "outputs": [],
   "source": [
    "import numpy as np \n",
    "from scipy import stats\n",
    "import pandas as pd\n",
    "import math"
   ]
  },
  {
   "cell_type": "code",
   "execution_count": 23,
   "id": "quiet-kernel",
   "metadata": {},
   "outputs": [],
   "source": [
    "data = pd.read_csv('machine.csv')"
   ]
  },
  {
   "cell_type": "code",
   "execution_count": 25,
   "id": "adequate-donna",
   "metadata": {},
   "outputs": [
    {
     "data": {
      "text/html": [
       "<div>\n",
       "<style scoped>\n",
       "    .dataframe tbody tr th:only-of-type {\n",
       "        vertical-align: middle;\n",
       "    }\n",
       "\n",
       "    .dataframe tbody tr th {\n",
       "        vertical-align: top;\n",
       "    }\n",
       "\n",
       "    .dataframe thead th {\n",
       "        text-align: right;\n",
       "    }\n",
       "</style>\n",
       "<table border=\"1\" class=\"dataframe\">\n",
       "  <thead>\n",
       "    <tr style=\"text-align: right;\">\n",
       "      <th></th>\n",
       "      <th>New machine</th>\n",
       "      <th>Old machine</th>\n",
       "    </tr>\n",
       "  </thead>\n",
       "  <tbody>\n",
       "    <tr>\n",
       "      <th>0</th>\n",
       "      <td>42.1</td>\n",
       "      <td>42.7</td>\n",
       "    </tr>\n",
       "    <tr>\n",
       "      <th>1</th>\n",
       "      <td>41.0</td>\n",
       "      <td>43.6</td>\n",
       "    </tr>\n",
       "  </tbody>\n",
       "</table>\n",
       "</div>"
      ],
      "text/plain": [
       "   New machine  Old machine\n",
       "0         42.1         42.7\n",
       "1         41.0         43.6"
      ]
     },
     "execution_count": 25,
     "metadata": {},
     "output_type": "execute_result"
    }
   ],
   "source": [
    "data.head(2)"
   ]
  },
  {
   "cell_type": "code",
   "execution_count": 47,
   "id": "fixed-going",
   "metadata": {},
   "outputs": [
    {
     "data": {
      "text/plain": [
       "New machine    0.683455\n",
       "Old machine    0.749889\n",
       "dtype: float64"
      ]
     },
     "execution_count": 47,
     "metadata": {},
     "output_type": "execute_result"
    }
   ],
   "source": [
    "data.std()"
   ]
  },
  {
   "cell_type": "code",
   "execution_count": 63,
   "id": "civic-slovenia",
   "metadata": {},
   "outputs": [
    {
     "data": {
      "text/plain": [
       "42.14"
      ]
     },
     "execution_count": 63,
     "metadata": {},
     "output_type": "execute_result"
    }
   ],
   "source": [
    "meannew=data['New machine'].mean()\n",
    "meannew"
   ]
  },
  {
   "cell_type": "code",
   "execution_count": 64,
   "id": "relevant-shoulder",
   "metadata": {},
   "outputs": [
    {
     "data": {
      "text/plain": [
       "43.230000000000004"
      ]
     },
     "execution_count": 64,
     "metadata": {},
     "output_type": "execute_result"
    }
   ],
   "source": [
    "meanold=data['Old machine'].mean()\n",
    "meanold"
   ]
  },
  {
   "cell_type": "code",
   "execution_count": 29,
   "id": "disabled-logistics",
   "metadata": {},
   "outputs": [
    {
     "data": {
      "text/html": [
       "<div>\n",
       "<style scoped>\n",
       "    .dataframe tbody tr th:only-of-type {\n",
       "        vertical-align: middle;\n",
       "    }\n",
       "\n",
       "    .dataframe tbody tr th {\n",
       "        vertical-align: top;\n",
       "    }\n",
       "\n",
       "    .dataframe thead th {\n",
       "        text-align: right;\n",
       "    }\n",
       "</style>\n",
       "<table border=\"1\" class=\"dataframe\">\n",
       "  <thead>\n",
       "    <tr style=\"text-align: right;\">\n",
       "      <th></th>\n",
       "      <th>New machine</th>\n",
       "      <th>Old machine</th>\n",
       "    </tr>\n",
       "  </thead>\n",
       "  <tbody>\n",
       "    <tr>\n",
       "      <th>count</th>\n",
       "      <td>10.000000</td>\n",
       "      <td>10.000000</td>\n",
       "    </tr>\n",
       "    <tr>\n",
       "      <th>mean</th>\n",
       "      <td>42.140000</td>\n",
       "      <td>43.230000</td>\n",
       "    </tr>\n",
       "    <tr>\n",
       "      <th>std</th>\n",
       "      <td>0.683455</td>\n",
       "      <td>0.749889</td>\n",
       "    </tr>\n",
       "    <tr>\n",
       "      <th>min</th>\n",
       "      <td>41.000000</td>\n",
       "      <td>41.700000</td>\n",
       "    </tr>\n",
       "    <tr>\n",
       "      <th>25%</th>\n",
       "      <td>41.800000</td>\n",
       "      <td>42.800000</td>\n",
       "    </tr>\n",
       "    <tr>\n",
       "      <th>50%</th>\n",
       "      <td>42.200000</td>\n",
       "      <td>43.400000</td>\n",
       "    </tr>\n",
       "    <tr>\n",
       "      <th>75%</th>\n",
       "      <td>42.625000</td>\n",
       "      <td>43.750000</td>\n",
       "    </tr>\n",
       "    <tr>\n",
       "      <th>max</th>\n",
       "      <td>43.200000</td>\n",
       "      <td>44.100000</td>\n",
       "    </tr>\n",
       "  </tbody>\n",
       "</table>\n",
       "</div>"
      ],
      "text/plain": [
       "       New machine  Old machine\n",
       "count    10.000000    10.000000\n",
       "mean     42.140000    43.230000\n",
       "std       0.683455     0.749889\n",
       "min      41.000000    41.700000\n",
       "25%      41.800000    42.800000\n",
       "50%      42.200000    43.400000\n",
       "75%      42.625000    43.750000\n",
       "max      43.200000    44.100000"
      ]
     },
     "execution_count": 29,
     "metadata": {},
     "output_type": "execute_result"
    }
   ],
   "source": [
    "# calculate the respective means and standard deviation if we want to input manually\n",
    "data.describe()"
   ]
  },
  {
   "cell_type": "code",
   "execution_count": 35,
   "id": "recreational-onion",
   "metadata": {},
   "outputs": [],
   "source": [
    "meanNew=42.14\n",
    "meanOld=43.23\n",
    "stdNew=0.683455\n",
    "stdOld=0.749889\n",
    "obs=20\n"
   ]
  },
  {
   "cell_type": "markdown",
   "id": "opened-louisiana",
   "metadata": {},
   "source": [
    "### define Hypothesis"
   ]
  },
  {
   "cell_type": "markdown",
   "id": "level-trustee",
   "metadata": {},
   "source": [
    "\n",
    "Ho : New machine is just as fast as the Old machine\n",
    "\n",
    "\n",
    "Ha : New machine is faster than Old machine\n",
    "\n",
    "we can do a 1 tailed t (students) test to see if observations for New are significantly smaller than Old and thus falls into critical area\n",
    "\n",
    "we could also do a 2 tailed t test, if we didnt have a starting assumption of one sample being better than the other. "
   ]
  },
  {
   "cell_type": "markdown",
   "id": "enormous-monitoring",
   "metadata": {},
   "source": [
    "### degrees of freedom\n",
    "https://www.statisticshowto.com/probability-and-statistics/hypothesis-testing/degrees-of-freedom/\n",
    "\n",
    "Degrees of Freedom (Two Samples):\n",
    "    \n",
    "    (N1 + N2) – 2\n",
    "    \n",
    "The standard significance level we are going for is 0.05 (ie 1-0.05)\n"
   ]
  },
  {
   "cell_type": "code",
   "execution_count": 45,
   "id": "combined-nursing",
   "metadata": {},
   "outputs": [],
   "source": [
    "dof = obs-2 \n",
    "sl=0.95"
   ]
  },
  {
   "cell_type": "markdown",
   "id": "labeled-adult",
   "metadata": {},
   "source": [
    "### t critical value "
   ]
  },
  {
   "cell_type": "markdown",
   "id": "ordinary-strike",
   "metadata": {},
   "source": [
    "https://www.sjsu.edu/faculty/gerstman/StatPrimer/t-table.pdf\n",
    "\n",
    "\n",
    "from the look up table i can also find the value for:\n",
    "18 df, a 1 tail test, and CI 0.95 = 1.734\n",
    "\n",
    "(as we are doing a left tailed test this is -1.734)"
   ]
  },
  {
   "cell_type": "code",
   "execution_count": 60,
   "id": "fallen-dependence",
   "metadata": {},
   "outputs": [
    {
     "data": {
      "text/plain": [
       "1.7340636066175354"
      ]
     },
     "execution_count": 60,
     "metadata": {},
     "output_type": "execute_result"
    }
   ],
   "source": [
    "t_critical=stats.t.ppf(sl, dof)\n",
    "t_critical"
   ]
  },
  {
   "cell_type": "markdown",
   "id": "brave-delight",
   "metadata": {},
   "source": [
    "what this means is that if the t statistic for our samples is either > 1.734 or < -1.734 we can reject the null hypothesis"
   ]
  },
  {
   "cell_type": "markdown",
   "id": "continued-audience",
   "metadata": {},
   "source": [
    "### t statistic for a 2 independent sample test \n",
    "\n",
    "the next stage requires some thinking about. We are not comparing a sample mean to a population mean as we did in class, but comparing 2 means to eachother. In this case lets use the stats.ttest_ind function to calculate our t statistic\n",
    "\n",
    "https://docs.scipy.org/doc/scipy/reference/generated/scipy.stats.ttest_ind.html\n",
    "\n",
    "**= stats.ttest_ind(rvs1, rvs5, equal_var = False)**\n",
    "\n",
    "where rvs1 is one sample, and rvs5 is the second sample - in this case we do not need to work out the pooled std \n",
    "\n",
    "(equal_var = False: we perform a Welch test which does not assume equal population variance, as confirmed by our std checks) \n"
   ]
  },
  {
   "cell_type": "code",
   "execution_count": 56,
   "id": "british-present",
   "metadata": {},
   "outputs": [
    {
     "data": {
      "text/plain": [
       "array([42.1, 41. , 41.3, 41.8, 42.4, 42.8, 43.2, 42.3, 41.8, 42.7])"
      ]
     },
     "execution_count": 56,
     "metadata": {},
     "output_type": "execute_result"
    }
   ],
   "source": [
    "#lets separate the two columns into arrays \n",
    "arr1=data['New machine'].to_numpy()\n",
    "arr1"
   ]
  },
  {
   "cell_type": "code",
   "execution_count": 57,
   "id": "indian-danger",
   "metadata": {},
   "outputs": [
    {
     "data": {
      "text/plain": [
       "array([42.7, 43.6, 43.8, 43.3, 42.5, 43.5, 43.1, 41.7, 44. , 44.1])"
      ]
     },
     "execution_count": 57,
     "metadata": {},
     "output_type": "execute_result"
    }
   ],
   "source": [
    "arr2=data['Old machine'].to_numpy()\n",
    "arr2"
   ]
  },
  {
   "cell_type": "code",
   "execution_count": 104,
   "id": "traditional-taste",
   "metadata": {},
   "outputs": [
    {
     "data": {
      "text/plain": [
       "Ttest_indResult(statistic=-3.397230706117603, pvalue=0.0032422494663179747)"
      ]
     },
     "execution_count": 104,
     "metadata": {},
     "output_type": "execute_result"
    }
   ],
   "source": [
    "statistic=stats.ttest_ind(arr1, arr2,equal_var=False)\n",
    "statistic"
   ]
  },
  {
   "cell_type": "markdown",
   "id": "looking-clone",
   "metadata": {},
   "source": [
    "### conclusion of the test \n",
    "\n",
    "we have enough evidence to reject the null hypothesis, both because the t statistic is in the critical area and because the p value <0.05 "
   ]
  },
  {
   "cell_type": "markdown",
   "id": "express-variation",
   "metadata": {},
   "source": [
    "## part 2 \n",
    "In this case we can't assume that the population variances are equal. Hence in this case we cannot pool the variances. Independent random samples of 17 sophomores and 13 juniors attending a large university yield the following data on grade point averages. Data is provided in the file files_for_lab/student_gpa.txt. \n",
    "\n",
    "At the 5% significance level, do the data provide sufficient evidence to conclude that the mean GPAs of sophomores and juniors at the university differ?\n"
   ]
  },
  {
   "cell_type": "code",
   "execution_count": 65,
   "id": "altered-soldier",
   "metadata": {},
   "outputs": [],
   "source": [
    "data2 = pd.read_csv('student_gpa.csv')"
   ]
  },
  {
   "cell_type": "code",
   "execution_count": 79,
   "id": "proper-colleague",
   "metadata": {},
   "outputs": [
    {
     "data": {
      "text/html": [
       "<div>\n",
       "<style scoped>\n",
       "    .dataframe tbody tr th:only-of-type {\n",
       "        vertical-align: middle;\n",
       "    }\n",
       "\n",
       "    .dataframe tbody tr th {\n",
       "        vertical-align: top;\n",
       "    }\n",
       "\n",
       "    .dataframe thead th {\n",
       "        text-align: right;\n",
       "    }\n",
       "</style>\n",
       "<table border=\"1\" class=\"dataframe\">\n",
       "  <thead>\n",
       "    <tr style=\"text-align: right;\">\n",
       "      <th></th>\n",
       "      <th>Sophomores</th>\n",
       "      <th>Juniors</th>\n",
       "    </tr>\n",
       "  </thead>\n",
       "  <tbody>\n",
       "    <tr>\n",
       "      <th>0</th>\n",
       "      <td>3.04</td>\n",
       "      <td>2.56</td>\n",
       "    </tr>\n",
       "    <tr>\n",
       "      <th>1</th>\n",
       "      <td>1.71</td>\n",
       "      <td>2.77</td>\n",
       "    </tr>\n",
       "    <tr>\n",
       "      <th>2</th>\n",
       "      <td>3.30</td>\n",
       "      <td>2.7</td>\n",
       "    </tr>\n",
       "    <tr>\n",
       "      <th>3</th>\n",
       "      <td>2.88</td>\n",
       "      <td>3</td>\n",
       "    </tr>\n",
       "    <tr>\n",
       "      <th>4</th>\n",
       "      <td>2.11</td>\n",
       "      <td>2.98</td>\n",
       "    </tr>\n",
       "  </tbody>\n",
       "</table>\n",
       "</div>"
      ],
      "text/plain": [
       "   Sophomores Juniors\n",
       "0        3.04    2.56\n",
       "1        1.71    2.77\n",
       "2        3.30     2.7\n",
       "3        2.88       3\n",
       "4        2.11    2.98"
      ]
     },
     "execution_count": 79,
     "metadata": {},
     "output_type": "execute_result"
    }
   ],
   "source": [
    "data2.head()"
   ]
  },
  {
   "cell_type": "code",
   "execution_count": 80,
   "id": "synthetic-looking",
   "metadata": {},
   "outputs": [
    {
     "name": "stdout",
     "output_type": "stream",
     "text": [
      "<class 'pandas.core.frame.DataFrame'>\n",
      "RangeIndex: 17 entries, 0 to 16\n",
      "Data columns (total 2 columns):\n",
      " #   Column      Non-Null Count  Dtype  \n",
      "---  ------      --------------  -----  \n",
      " 0   Sophomores  17 non-null     float64\n",
      " 1   Juniors     16 non-null     object \n",
      "dtypes: float64(1), object(1)\n",
      "memory usage: 400.0+ bytes\n"
     ]
    }
   ],
   "source": [
    "data2.info()"
   ]
  },
  {
   "cell_type": "code",
   "execution_count": 81,
   "id": "powered-welding",
   "metadata": {},
   "outputs": [
    {
     "data": {
      "text/html": [
       "<div>\n",
       "<style scoped>\n",
       "    .dataframe tbody tr th:only-of-type {\n",
       "        vertical-align: middle;\n",
       "    }\n",
       "\n",
       "    .dataframe tbody tr th {\n",
       "        vertical-align: top;\n",
       "    }\n",
       "\n",
       "    .dataframe thead th {\n",
       "        text-align: right;\n",
       "    }\n",
       "</style>\n",
       "<table border=\"1\" class=\"dataframe\">\n",
       "  <thead>\n",
       "    <tr style=\"text-align: right;\">\n",
       "      <th></th>\n",
       "      <th>Sophomores</th>\n",
       "    </tr>\n",
       "  </thead>\n",
       "  <tbody>\n",
       "    <tr>\n",
       "      <th>count</th>\n",
       "      <td>17.000000</td>\n",
       "    </tr>\n",
       "    <tr>\n",
       "      <th>mean</th>\n",
       "      <td>2.840000</td>\n",
       "    </tr>\n",
       "    <tr>\n",
       "      <th>std</th>\n",
       "      <td>0.519832</td>\n",
       "    </tr>\n",
       "    <tr>\n",
       "      <th>min</th>\n",
       "      <td>1.710000</td>\n",
       "    </tr>\n",
       "    <tr>\n",
       "      <th>25%</th>\n",
       "      <td>2.600000</td>\n",
       "    </tr>\n",
       "    <tr>\n",
       "      <th>50%</th>\n",
       "      <td>2.920000</td>\n",
       "    </tr>\n",
       "    <tr>\n",
       "      <th>75%</th>\n",
       "      <td>3.130000</td>\n",
       "    </tr>\n",
       "    <tr>\n",
       "      <th>max</th>\n",
       "      <td>3.600000</td>\n",
       "    </tr>\n",
       "  </tbody>\n",
       "</table>\n",
       "</div>"
      ],
      "text/plain": [
       "       Sophomores\n",
       "count   17.000000\n",
       "mean     2.840000\n",
       "std      0.519832\n",
       "min      1.710000\n",
       "25%      2.600000\n",
       "50%      2.920000\n",
       "75%      3.130000\n",
       "max      3.600000"
      ]
     },
     "execution_count": 81,
     "metadata": {},
     "output_type": "execute_result"
    }
   ],
   "source": [
    "data2.describe()"
   ]
  },
  {
   "cell_type": "code",
   "execution_count": 89,
   "id": "divine-being",
   "metadata": {},
   "outputs": [],
   "source": [
    "#lets split the df to arrays and deal with object type first "
   ]
  },
  {
   "cell_type": "markdown",
   "id": "present-convert",
   "metadata": {},
   "source": [
    "### Prepare data"
   ]
  },
  {
   "cell_type": "code",
   "execution_count": 71,
   "id": "raised-evanescence",
   "metadata": {},
   "outputs": [
    {
     "data": {
      "text/plain": [
       "array([3.04, 1.71, 3.3 , 2.88, 2.11, 2.6 , 2.92, 3.6 , 2.28, 2.82, 3.03,\n",
       "       3.13, 2.86, 3.49, 3.11, 2.13, 3.27])"
      ]
     },
     "execution_count": 71,
     "metadata": {},
     "output_type": "execute_result"
    }
   ],
   "source": [
    "arr3=data2['Sophomores'].to_numpy()\n",
    "arr3"
   ]
  },
  {
   "cell_type": "code",
   "execution_count": 72,
   "id": "final-exception",
   "metadata": {},
   "outputs": [
    {
     "data": {
      "text/plain": [
       "array(['2.56', '2.77', '2.7', '3', '2.98', '3.47', '3.26', '3.2', '3.19',\n",
       "       '2.65', '3', '3.39', '2.58', '\\t', '\\t', '\\t', nan], dtype=object)"
      ]
     },
     "execution_count": 72,
     "metadata": {},
     "output_type": "execute_result"
    }
   ],
   "source": [
    "arr4=data2['Juniors'].to_numpy()\n",
    "arr4"
   ]
  },
  {
   "cell_type": "code",
   "execution_count": 76,
   "id": "looking-disposal",
   "metadata": {},
   "outputs": [],
   "source": [
    "arr4=arr4[:13]"
   ]
  },
  {
   "cell_type": "code",
   "execution_count": 78,
   "id": "married-netscape",
   "metadata": {},
   "outputs": [
    {
     "data": {
      "text/plain": [
       "array([2.56, 2.77, 2.7 , 3.  , 2.98, 3.47, 3.26, 3.2 , 3.19, 2.65, 3.  ,\n",
       "       3.39, 2.58])"
      ]
     },
     "execution_count": 78,
     "metadata": {},
     "output_type": "execute_result"
    }
   ],
   "source": [
    "arr4 = arr4.astype('float64')\n",
    "arr4"
   ]
  },
  {
   "cell_type": "markdown",
   "id": "romance-details",
   "metadata": {},
   "source": [
    "#### calculate means, std and non of observations of each sample"
   ]
  },
  {
   "cell_type": "code",
   "execution_count": 83,
   "id": "dynamic-recommendation",
   "metadata": {},
   "outputs": [
    {
     "data": {
      "text/plain": [
       "2.84"
      ]
     },
     "execution_count": 83,
     "metadata": {},
     "output_type": "execute_result"
    }
   ],
   "source": [
    "Sopmean=np.mean(arr3)\n",
    "Sopmean"
   ]
  },
  {
   "cell_type": "code",
   "execution_count": 85,
   "id": "acceptable-humor",
   "metadata": {},
   "outputs": [
    {
     "data": {
      "text/plain": [
       "0.5043108285221584"
      ]
     },
     "execution_count": 85,
     "metadata": {},
     "output_type": "execute_result"
    }
   ],
   "source": [
    "Sopsd=np.std(arr3)\n",
    "Sopsd"
   ]
  },
  {
   "cell_type": "code",
   "execution_count": 92,
   "id": "figured-conservation",
   "metadata": {},
   "outputs": [
    {
     "data": {
      "text/plain": [
       "17"
      ]
     },
     "execution_count": 92,
     "metadata": {},
     "output_type": "execute_result"
    }
   ],
   "source": [
    "SopN=arr3.size\n",
    "SopN"
   ]
  },
  {
   "cell_type": "code",
   "execution_count": 86,
   "id": "rational-column",
   "metadata": {},
   "outputs": [
    {
     "data": {
      "text/plain": [
       "2.980769230769231"
      ]
     },
     "execution_count": 86,
     "metadata": {},
     "output_type": "execute_result"
    }
   ],
   "source": [
    "Jnmean=np.mean(arr4)\n",
    "Jnmean"
   ]
  },
  {
   "cell_type": "code",
   "execution_count": 87,
   "id": "skilled-investigator",
   "metadata": {},
   "outputs": [
    {
     "data": {
      "text/plain": [
       "0.29712627562812255"
      ]
     },
     "execution_count": 87,
     "metadata": {},
     "output_type": "execute_result"
    }
   ],
   "source": [
    "Jnsd=np.std(arr4)\n",
    "Jnsd"
   ]
  },
  {
   "cell_type": "code",
   "execution_count": 93,
   "id": "finnish-cement",
   "metadata": {},
   "outputs": [
    {
     "data": {
      "text/plain": [
       "13"
      ]
     },
     "execution_count": 93,
     "metadata": {},
     "output_type": "execute_result"
    }
   ],
   "source": [
    "JnN=arr4.size\n",
    "JnN"
   ]
  },
  {
   "cell_type": "markdown",
   "id": "surprised-modern",
   "metadata": {},
   "source": [
    "### Define Hypotheses"
   ]
  },
  {
   "cell_type": "markdown",
   "id": "closing-politics",
   "metadata": {},
   "source": [
    "Ho : no difference between sophomores and juniors gpa \n",
    "\n",
    "\n",
    "Ha : there is a difference between soph and juniors gpa\n",
    "    \n",
    "    \n",
    "we can do a 2 tailed t test, as we dont have a starting assumption of one sample being better than the other. "
   ]
  },
  {
   "cell_type": "markdown",
   "id": "judicial-branch",
   "metadata": {},
   "source": [
    "### degrees of freedom and significance level "
   ]
  },
  {
   "cell_type": "code",
   "execution_count": 96,
   "id": "legislative-valuable",
   "metadata": {},
   "outputs": [],
   "source": [
    "dof = (SopN+JnN)-2 \n",
    "sl=0.95"
   ]
  },
  {
   "cell_type": "markdown",
   "id": "designing-battlefield",
   "metadata": {},
   "source": [
    "### critical level \n",
    "\n",
    "using the lookup table i see the appropriate value of a 2 tailed 0.95 28 dof test is 2.048 "
   ]
  },
  {
   "cell_type": "markdown",
   "id": "greek-montana",
   "metadata": {},
   "source": [
    "### test statistic \n",
    "\n"
   ]
  },
  {
   "cell_type": "code",
   "execution_count": 105,
   "id": "coastal-indicator",
   "metadata": {},
   "outputs": [
    {
     "data": {
      "text/plain": [
       "Ttest_indResult(statistic=-0.9231495630900278, pvalue=0.3642180675348571)"
      ]
     },
     "execution_count": 105,
     "metadata": {},
     "output_type": "execute_result"
    }
   ],
   "source": [
    "statistic2=stats.ttest_ind(arr3, arr4,equal_var=False)\n",
    "statistic2"
   ]
  },
  {
   "cell_type": "markdown",
   "id": "significant-internet",
   "metadata": {},
   "source": [
    "### conclusion of the test \n",
    "\n",
    "we do not have enough evidence to reject the null hypothesis, both because the t statistic is outside the critical area and because the p value >0.05 "
   ]
  },
  {
   "cell_type": "code",
   "execution_count": null,
   "id": "careful-village",
   "metadata": {},
   "outputs": [],
   "source": []
  },
  {
   "cell_type": "code",
   "execution_count": null,
   "id": "equipped-crowd",
   "metadata": {},
   "outputs": [],
   "source": []
  },
  {
   "cell_type": "code",
   "execution_count": null,
   "id": "active-clearing",
   "metadata": {},
   "outputs": [],
   "source": []
  },
  {
   "cell_type": "markdown",
   "id": "modified-animation",
   "metadata": {},
   "source": [
    "### anova "
   ]
  },
  {
   "cell_type": "code",
   "execution_count": 109,
   "id": "muslim-armstrong",
   "metadata": {},
   "outputs": [],
   "source": [
    "import statsmodels.api as sm\n",
    "from statsmodels.formula.api import ols\n"
   ]
  },
  {
   "cell_type": "code",
   "execution_count": 132,
   "id": "pleased-devon",
   "metadata": {},
   "outputs": [
    {
     "data": {
      "text/html": [
       "<div>\n",
       "<style scoped>\n",
       "    .dataframe tbody tr th:only-of-type {\n",
       "        vertical-align: middle;\n",
       "    }\n",
       "\n",
       "    .dataframe tbody tr th {\n",
       "        vertical-align: top;\n",
       "    }\n",
       "\n",
       "    .dataframe thead th {\n",
       "        text-align: right;\n",
       "    }\n",
       "</style>\n",
       "<table border=\"1\" class=\"dataframe\">\n",
       "  <thead>\n",
       "    <tr style=\"text-align: right;\">\n",
       "      <th></th>\n",
       "      <th>Watts</th>\n",
       "      <th>Etching Rate</th>\n",
       "    </tr>\n",
       "  </thead>\n",
       "  <tbody>\n",
       "    <tr>\n",
       "      <th>0</th>\n",
       "      <td>160</td>\n",
       "      <td>5.43</td>\n",
       "    </tr>\n",
       "    <tr>\n",
       "      <th>1</th>\n",
       "      <td>180</td>\n",
       "      <td>6.24</td>\n",
       "    </tr>\n",
       "    <tr>\n",
       "      <th>2</th>\n",
       "      <td>200</td>\n",
       "      <td>8.79</td>\n",
       "    </tr>\n",
       "    <tr>\n",
       "      <th>3</th>\n",
       "      <td>160</td>\n",
       "      <td>5.71</td>\n",
       "    </tr>\n",
       "    <tr>\n",
       "      <th>4</th>\n",
       "      <td>180</td>\n",
       "      <td>6.71</td>\n",
       "    </tr>\n",
       "  </tbody>\n",
       "</table>\n",
       "</div>"
      ],
      "text/plain": [
       "   Watts  Etching Rate\n",
       "0    160          5.43\n",
       "1    180          6.24\n",
       "2    200          8.79\n",
       "3    160          5.71\n",
       "4    180          6.71"
      ]
     },
     "execution_count": 132,
     "metadata": {},
     "output_type": "execute_result"
    }
   ],
   "source": [
    "data3 = pd.read_excel('anova_lab_data.xlsx', sheet_name='data_collected')\n",
    "data3.head()"
   ]
  },
  {
   "cell_type": "code",
   "execution_count": 133,
   "id": "racial-british",
   "metadata": {},
   "outputs": [
    {
     "data": {
      "text/html": [
       "<div>\n",
       "<style scoped>\n",
       "    .dataframe tbody tr th:only-of-type {\n",
       "        vertical-align: middle;\n",
       "    }\n",
       "\n",
       "    .dataframe tbody tr th {\n",
       "        vertical-align: top;\n",
       "    }\n",
       "\n",
       "    .dataframe thead th {\n",
       "        text-align: right;\n",
       "    }\n",
       "</style>\n",
       "<table border=\"1\" class=\"dataframe\">\n",
       "  <thead>\n",
       "    <tr style=\"text-align: right;\">\n",
       "      <th></th>\n",
       "      <th>Watts</th>\n",
       "      <th>rate</th>\n",
       "    </tr>\n",
       "  </thead>\n",
       "  <tbody>\n",
       "    <tr>\n",
       "      <th>0</th>\n",
       "      <td>160</td>\n",
       "      <td>5.43</td>\n",
       "    </tr>\n",
       "    <tr>\n",
       "      <th>1</th>\n",
       "      <td>180</td>\n",
       "      <td>6.24</td>\n",
       "    </tr>\n",
       "    <tr>\n",
       "      <th>2</th>\n",
       "      <td>200</td>\n",
       "      <td>8.79</td>\n",
       "    </tr>\n",
       "    <tr>\n",
       "      <th>3</th>\n",
       "      <td>160</td>\n",
       "      <td>5.71</td>\n",
       "    </tr>\n",
       "    <tr>\n",
       "      <th>4</th>\n",
       "      <td>180</td>\n",
       "      <td>6.71</td>\n",
       "    </tr>\n",
       "  </tbody>\n",
       "</table>\n",
       "</div>"
      ],
      "text/plain": [
       "   Watts  rate\n",
       "0    160  5.43\n",
       "1    180  6.24\n",
       "2    200  8.79\n",
       "3    160  5.71\n",
       "4    180  6.71"
      ]
     },
     "execution_count": 133,
     "metadata": {},
     "output_type": "execute_result"
    }
   ],
   "source": [
    "data3.rename(columns = {'Etching Rate':'rate'}, inplace = True)\n",
    "data3.head()\n",
    "   "
   ]
  },
  {
   "cell_type": "code",
   "execution_count": 134,
   "id": "pending-swift",
   "metadata": {},
   "outputs": [
    {
     "name": "stdout",
     "output_type": "stream",
     "text": [
      "<class 'pandas.core.frame.DataFrame'>\n",
      "RangeIndex: 15 entries, 0 to 14\n",
      "Data columns (total 2 columns):\n",
      " #   Column  Non-Null Count  Dtype  \n",
      "---  ------  --------------  -----  \n",
      " 0   Watts   15 non-null     int64  \n",
      " 1   rate    15 non-null     float64\n",
      "dtypes: float64(1), int64(1)\n",
      "memory usage: 368.0 bytes\n"
     ]
    }
   ],
   "source": [
    "data3.info()"
   ]
  },
  {
   "cell_type": "code",
   "execution_count": 136,
   "id": "mathematical-south",
   "metadata": {},
   "outputs": [
    {
     "data": {
      "text/plain": [
       "0     160\n",
       "1     180\n",
       "2     200\n",
       "3     160\n",
       "4     180\n",
       "5     200\n",
       "6     160\n",
       "7     180\n",
       "8     200\n",
       "9     160\n",
       "10    180\n",
       "11    200\n",
       "12    160\n",
       "13    180\n",
       "14    200\n",
       "Name: Watts, dtype: int64"
      ]
     },
     "execution_count": 136,
     "metadata": {},
     "output_type": "execute_result"
    }
   ],
   "source": [
    "data3['Watts']"
   ]
  },
  {
   "cell_type": "code",
   "execution_count": 137,
   "id": "foreign-music",
   "metadata": {},
   "outputs": [
    {
     "name": "stdout",
     "output_type": "stream",
     "text": [
      "            df     sum_sq   mean_sq          F    PR(>F)\n",
      "C(Watts)   2.0  18.176653  9.088327  36.878955  0.000008\n",
      "Residual  12.0   2.957240  0.246437        NaN       NaN\n"
     ]
    }
   ],
   "source": [
    "model = ols('rate ~ C(Watts)',data=data3).fit()\n",
    "table = sm.stats.anova_lm(model)\n",
    "print(table)"
   ]
  },
  {
   "cell_type": "code",
   "execution_count": null,
   "id": "hourly-duncan",
   "metadata": {},
   "outputs": [],
   "source": [
    "# next look up the f statistic to draw conclusions "
   ]
  }
 ],
 "metadata": {
  "kernelspec": {
   "display_name": "Python 3",
   "language": "python",
   "name": "python3"
  },
  "language_info": {
   "codemirror_mode": {
    "name": "ipython",
    "version": 3
   },
   "file_extension": ".py",
   "mimetype": "text/x-python",
   "name": "python",
   "nbconvert_exporter": "python",
   "pygments_lexer": "ipython3",
   "version": "3.8.3"
  }
 },
 "nbformat": 4,
 "nbformat_minor": 5
}
