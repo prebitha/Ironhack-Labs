{
 "cells": [
  {
   "cell_type": "markdown",
   "metadata": {},
   "source": [
    "### Web Scraping from Billboard Top100"
   ]
  },
  {
   "cell_type": "code",
   "execution_count": 1,
   "metadata": {},
   "outputs": [],
   "source": [
    "from bs4 import BeautifulSoup\n",
    "import requests\n",
    "import pandas as pd\n",
    "from tqdm.notebook import tqdm"
   ]
  },
  {
   "cell_type": "markdown",
   "metadata": {},
   "source": [
    "### The URL"
   ]
  },
  {
   "cell_type": "code",
   "execution_count": 2,
   "metadata": {},
   "outputs": [],
   "source": [
    "url = \"https://www.billboard.com/charts/hot-100\" #defining the url"
   ]
  },
  {
   "cell_type": "code",
   "execution_count": 3,
   "metadata": {},
   "outputs": [],
   "source": [
    "response = requests.get(url) #the response "
   ]
  },
  {
   "cell_type": "code",
   "execution_count": 4,
   "metadata": {},
   "outputs": [
    {
     "data": {
      "text/plain": [
       "200"
      ]
     },
     "execution_count": 4,
     "metadata": {},
     "output_type": "execute_result"
    }
   ],
   "source": [
    "response.status_code"
   ]
  },
  {
   "cell_type": "markdown",
   "metadata": {},
   "source": [
    "### Work with the html"
   ]
  },
  {
   "cell_type": "code",
   "execution_count": 5,
   "metadata": {},
   "outputs": [],
   "source": [
    "soup = BeautifulSoup(response.content, 'html.parser')"
   ]
  },
  {
   "cell_type": "code",
   "execution_count": 6,
   "metadata": {},
   "outputs": [
    {
     "name": "stderr",
     "output_type": "stream",
     "text": [
      "IOPub data rate exceeded.\n",
      "The notebook server will temporarily stop sending output\n",
      "to the client in order to avoid crashing it.\n",
      "To change this limit, set the config variable\n",
      "`--NotebookApp.iopub_data_rate_limit`.\n",
      "\n",
      "Current values:\n",
      "NotebookApp.iopub_data_rate_limit=1000000.0 (bytes/sec)\n",
      "NotebookApp.rate_limit_window=3.0 (secs)\n",
      "\n"
     ]
    }
   ],
   "source": [
    "# to avoid the error : 'jupyter notebook --NotebookApp.iopub_data_rate_limit=1.0e10'\n",
    "print(soup.prettify())"
   ]
  },
  {
   "cell_type": "markdown",
   "metadata": {},
   "source": [
    "### Song title"
   ]
  },
  {
   "cell_type": "code",
   "execution_count": 7,
   "metadata": {},
   "outputs": [
    {
     "data": {
      "text/plain": [
       "'Rapstar'"
      ]
     },
     "execution_count": 7,
     "metadata": {},
     "output_type": "execute_result"
    }
   ],
   "source": [
    "#Firefox\n",
    "soup.select(\"li.chart-list__element:nth-child(1) > button:nth-child(1) > span:nth-child(2) > span:nth-child(1)\")[0].text"
   ]
  },
  {
   "cell_type": "code",
   "execution_count": 8,
   "metadata": {},
   "outputs": [
    {
     "data": {
      "text/plain": [
       "[<span class=\"chart-element__information__song text--truncate color--primary\">Rapstar</span>,\n",
       " <span class=\"chart-element__information__song text--truncate color--primary\">Leave The Door Open</span>,\n",
       " <span class=\"chart-element__information__song text--truncate color--primary\">Peaches</span>,\n",
       " <span class=\"chart-element__information__song text--truncate color--primary\">Montero (Call Me By Your Name)</span>,\n",
       " <span class=\"chart-element__information__song text--truncate color--primary\">Levitating</span>,\n",
       " <span class=\"chart-element__information__song text--truncate color--primary\">Save Your Tears</span>,\n",
       " <span class=\"chart-element__information__song text--truncate color--primary\">Astronaut In The Ocean</span>,\n",
       " <span class=\"chart-element__information__song text--truncate color--primary\">Kiss Me More</span>,\n",
       " <span class=\"chart-element__information__song text--truncate color--primary\">Up</span>,\n",
       " <span class=\"chart-element__information__song text--truncate color--primary\">Drivers License</span>,\n",
       " <span class=\"chart-element__information__song text--truncate color--primary\">Deja Vu</span>,\n",
       " <span class=\"chart-element__information__song text--truncate color--primary\">Solid</span>,\n",
       " <span class=\"chart-element__information__song text--truncate color--primary\">Blinding Lights</span>,\n",
       " <span class=\"chart-element__information__song text--truncate color--primary\">Beat Box</span>,\n",
       " <span class=\"chart-element__information__song text--truncate color--primary\">Best Friend</span>,\n",
       " <span class=\"chart-element__information__song text--truncate color--primary\">Calling My Phone</span>,\n",
       " <span class=\"chart-element__information__song text--truncate color--primary\">What You Know Bout Love</span>,\n",
       " <span class=\"chart-element__information__song text--truncate color--primary\">Ski</span>,\n",
       " <span class=\"chart-element__information__song text--truncate color--primary\">Mood</span>,\n",
       " <span class=\"chart-element__information__song text--truncate color--primary\">Heartbreak Anniversary</span>,\n",
       " <span class=\"chart-element__information__song text--truncate color--primary\">The Good Ones</span>,\n",
       " <span class=\"chart-element__information__song text--truncate color--primary\">Beautiful Mistakes</span>,\n",
       " <span class=\"chart-element__information__song text--truncate color--primary\">Back In Blood</span>,\n",
       " <span class=\"chart-element__information__song text--truncate color--primary\">Go Crazy</span>,\n",
       " <span class=\"chart-element__information__song text--truncate color--primary\">You Broke Me First.</span>,\n",
       " <span class=\"chart-element__information__song text--truncate color--primary\">34+35</span>,\n",
       " <span class=\"chart-element__information__song text--truncate color--primary\">My Ex's Best Friend</span>,\n",
       " <span class=\"chart-element__information__song text--truncate color--primary\">What's Next</span>,\n",
       " <span class=\"chart-element__information__song text--truncate color--primary\">Dakiti</span>,\n",
       " <span class=\"chart-element__information__song text--truncate color--primary\">Therefore I Am</span>,\n",
       " <span class=\"chart-element__information__song text--truncate color--primary\">Without You</span>,\n",
       " <span class=\"chart-element__information__song text--truncate color--primary\">On Me</span>,\n",
       " <span class=\"chart-element__information__song text--truncate color--primary\">Positions</span>,\n",
       " <span class=\"chart-element__information__song text--truncate color--primary\">You're Mines Still</span>,\n",
       " <span class=\"chart-element__information__song text--truncate color--primary\">Forever After All</span>,\n",
       " <span class=\"chart-element__information__song text--truncate color--primary\">Wants And Needs</span>,\n",
       " <span class=\"chart-element__information__song text--truncate color--primary\">Track Star</span>,\n",
       " <span class=\"chart-element__information__song text--truncate color--primary\">We're Good</span>,\n",
       " <span class=\"chart-element__information__song text--truncate color--primary\">Heat Waves</span>,\n",
       " <span class=\"chart-element__information__song text--truncate color--primary\">For The Night</span>,\n",
       " <span class=\"chart-element__information__song text--truncate color--primary\">Hell Of A View</span>,\n",
       " <span class=\"chart-element__information__song text--truncate color--primary\">Made For You</span>,\n",
       " <span class=\"chart-element__information__song text--truncate color--primary\">No More Parties</span>,\n",
       " <span class=\"chart-element__information__song text--truncate color--primary\">Good Days</span>,\n",
       " <span class=\"chart-element__information__song text--truncate color--primary\">Starting Over</span>,\n",
       " <span class=\"chart-element__information__song text--truncate color--primary\">Diamonds Dancing</span>,\n",
       " <span class=\"chart-element__information__song text--truncate color--primary\">Goosebumps</span>,\n",
       " <span class=\"chart-element__information__song text--truncate color--primary\">Tombstone</span>,\n",
       " <span class=\"chart-element__information__song text--truncate color--primary\">Breaking Up Was Easy In The 90's</span>,\n",
       " <span class=\"chart-element__information__song text--truncate color--primary\">Somebody Like That</span>,\n",
       " <span class=\"chart-element__information__song text--truncate color--primary\">Streets</span>,\n",
       " <span class=\"chart-element__information__song text--truncate color--primary\">What's Your Country Song</span>,\n",
       " <span class=\"chart-element__information__song text--truncate color--primary\">Time Today</span>,\n",
       " <span class=\"chart-element__information__song text--truncate color--primary\">Telepatia</span>,\n",
       " <span class=\"chart-element__information__song text--truncate color--primary\">Cry Baby</span>,\n",
       " <span class=\"chart-element__information__song text--truncate color--primary\">Hold On</span>,\n",
       " <span class=\"chart-element__information__song text--truncate color--primary\">Street Runner</span>,\n",
       " <span class=\"chart-element__information__song text--truncate color--primary\">Just The Way</span>,\n",
       " <span class=\"chart-element__information__song text--truncate color--primary\">Proud Of You</span>,\n",
       " <span class=\"chart-element__information__song text--truncate color--primary\">Willow</span>,\n",
       " <span class=\"chart-element__information__song text--truncate color--primary\">Damage</span>,\n",
       " <span class=\"chart-element__information__song text--truncate color--primary\">Richer</span>,\n",
       " <span class=\"chart-element__information__song text--truncate color--primary\">Glad You Exist</span>,\n",
       " <span class=\"chart-element__information__song text--truncate color--primary\">La Noche de Anoche</span>,\n",
       " <span class=\"chart-element__information__song text--truncate color--primary\">Settling Down</span>,\n",
       " <span class=\"chart-element__information__song text--truncate color--primary\">Came And Saw</span>,\n",
       " <span class=\"chart-element__information__song text--truncate color--primary\">Headshot</span>,\n",
       " <span class=\"chart-element__information__song text--truncate color--primary\">Anyone</span>,\n",
       " <span class=\"chart-element__information__song text--truncate color--primary\">Down To One</span>,\n",
       " <span class=\"chart-element__information__song text--truncate color--primary\">Lady</span>,\n",
       " <span class=\"chart-element__information__song text--truncate color--primary\">Quicksand</span>,\n",
       " <span class=\"chart-element__information__song text--truncate color--primary\">One Too Many</span>,\n",
       " <span class=\"chart-element__information__song text--truncate color--primary\">Famous Friends</span>,\n",
       " <span class=\"chart-element__information__song text--truncate color--primary\">Gone</span>,\n",
       " <span class=\"chart-element__information__song text--truncate color--primary\">My Head And My Heart</span>,\n",
       " <span class=\"chart-element__information__song text--truncate color--primary\">Almost Maybes</span>,\n",
       " <span class=\"chart-element__information__song text--truncate color--primary\">Paid The Fine</span>,\n",
       " <span class=\"chart-element__information__song text--truncate color--primary\">The Business</span>,\n",
       " <span class=\"chart-element__information__song text--truncate color--primary\">Drunk (And I Don't Wanna Go Home)</span>,\n",
       " <span class=\"chart-element__information__song text--truncate color--primary\">Masterpiece</span>,\n",
       " <span class=\"chart-element__information__song text--truncate color--primary\">pov</span>,\n",
       " <span class=\"chart-element__information__song text--truncate color--primary\">Long Live</span>,\n",
       " <span class=\"chart-element__information__song text--truncate color--primary\">Hellcats &amp; Trackhawks</span>,\n",
       " <span class=\"chart-element__information__song text--truncate color--primary\">Follow You</span>,\n",
       " <span class=\"chart-element__information__song text--truncate color--primary\">Momma's House</span>,\n",
       " <span class=\"chart-element__information__song text--truncate color--primary\">Nobody</span>,\n",
       " <span class=\"chart-element__information__song text--truncate color--primary\">Big Gangsta</span>,\n",
       " <span class=\"chart-element__information__song text--truncate color--primary\">Pick Up Your Feelings</span>,\n",
       " <span class=\"chart-element__information__song text--truncate color--primary\">Lil Bit</span>,\n",
       " <span class=\"chart-element__information__song text--truncate color--primary\">Mr. Perfectly Fine (Taylor's Version) (From The Vault)</span>,\n",
       " <span class=\"chart-element__information__song text--truncate color--primary\">Chasing After You</span>,\n",
       " <span class=\"chart-element__information__song text--truncate color--primary\">Wasted On You</span>,\n",
       " <span class=\"chart-element__information__song text--truncate color--primary\">Run It Up</span>,\n",
       " <span class=\"chart-element__information__song text--truncate color--primary\">Arcade</span>,\n",
       " <span class=\"chart-element__information__song text--truncate color--primary\">You Got It</span>,\n",
       " <span class=\"chart-element__information__song text--truncate color--primary\">Go!</span>,\n",
       " <span class=\"chart-element__information__song text--truncate color--primary\">Drankin N Smokin</span>,\n",
       " <span class=\"chart-element__information__song text--truncate color--primary\">Monsters</span>,\n",
       " <span class=\"chart-element__information__song text--truncate color--primary\">Slatty</span>,\n",
       " <span class=\"chart-element__information__song text--truncate color--primary\">4 Da Gang</span>]"
      ]
     },
     "execution_count": 8,
     "metadata": {},
     "output_type": "execute_result"
    }
   ],
   "source": [
    "soup.select(\"span.chart-element__information__song\")"
   ]
  },
  {
   "cell_type": "code",
   "execution_count": 9,
   "metadata": {},
   "outputs": [
    {
     "data": {
      "text/plain": [
       "'Rapstar'"
      ]
     },
     "execution_count": 9,
     "metadata": {},
     "output_type": "execute_result"
    }
   ],
   "source": [
    "soup.select(\"span.chart-element__information__song\")[0].text"
   ]
  },
  {
   "cell_type": "markdown",
   "metadata": {},
   "source": [
    "### Band"
   ]
  },
  {
   "cell_type": "code",
   "execution_count": 10,
   "metadata": {},
   "outputs": [
    {
     "data": {
      "text/plain": [
       "'Polo G'"
      ]
     },
     "execution_count": 10,
     "metadata": {},
     "output_type": "execute_result"
    }
   ],
   "source": [
    "#Firefox\n",
    "soup.select(\"li.chart-list__element:nth-child(1) > button:nth-child(1) > span:nth-child(2) > span:nth-child(2)\")[0].text"
   ]
  },
  {
   "cell_type": "code",
   "execution_count": 11,
   "metadata": {},
   "outputs": [
    {
     "data": {
      "text/plain": [
       "[<span class=\"chart-element__information__artist text--truncate color--secondary\">Polo G</span>,\n",
       " <span class=\"chart-element__information__artist text--truncate color--secondary\">Silk Sonic (Bruno Mars &amp; Anderson .Paak)</span>,\n",
       " <span class=\"chart-element__information__artist text--truncate color--secondary\">Justin Bieber Featuring Daniel Caesar &amp; Giveon</span>,\n",
       " <span class=\"chart-element__information__artist text--truncate color--secondary\">Lil Nas X</span>,\n",
       " <span class=\"chart-element__information__artist text--truncate color--secondary\">Dua Lipa Featuring DaBaby</span>,\n",
       " <span class=\"chart-element__information__artist text--truncate color--secondary\">The Weeknd</span>,\n",
       " <span class=\"chart-element__information__artist text--truncate color--secondary\">Masked Wolf</span>,\n",
       " <span class=\"chart-element__information__artist text--truncate color--secondary\">Doja Cat Featuring SZA</span>,\n",
       " <span class=\"chart-element__information__artist text--truncate color--secondary\">Cardi B</span>,\n",
       " <span class=\"chart-element__information__artist text--truncate color--secondary\">Olivia Rodrigo</span>,\n",
       " <span class=\"chart-element__information__artist text--truncate color--secondary\">Olivia Rodrigo</span>,\n",
       " <span class=\"chart-element__information__artist text--truncate color--secondary\">Young Thug &amp; Gunna Featuring Drake</span>,\n",
       " <span class=\"chart-element__information__artist text--truncate color--secondary\">The Weeknd</span>,\n",
       " <span class=\"chart-element__information__artist text--truncate color--secondary\">SpotemGottem Featuring Pooh Shiesty Or DaBaby</span>,\n",
       " <span class=\"chart-element__information__artist text--truncate color--secondary\">Saweetie Featuring Doja Cat</span>,\n",
       " <span class=\"chart-element__information__artist text--truncate color--secondary\">Lil Tjay Featuring 6LACK</span>,\n",
       " <span class=\"chart-element__information__artist text--truncate color--secondary\">Pop Smoke</span>,\n",
       " <span class=\"chart-element__information__artist text--truncate color--secondary\">Young Thug &amp; Gunna</span>,\n",
       " <span class=\"chart-element__information__artist text--truncate color--secondary\">24kGoldn Featuring iann dior</span>,\n",
       " <span class=\"chart-element__information__artist text--truncate color--secondary\">Giveon</span>,\n",
       " <span class=\"chart-element__information__artist text--truncate color--secondary\">Gabby Barrett</span>,\n",
       " <span class=\"chart-element__information__artist text--truncate color--secondary\">Maroon 5 Featuring Megan Thee Stallion</span>,\n",
       " <span class=\"chart-element__information__artist text--truncate color--secondary\">Pooh Shiesty Featuring Lil Durk</span>,\n",
       " <span class=\"chart-element__information__artist text--truncate color--secondary\">Chris Brown &amp; Young Thug</span>,\n",
       " <span class=\"chart-element__information__artist text--truncate color--secondary\">Tate McRae</span>,\n",
       " <span class=\"chart-element__information__artist text--truncate color--secondary\">Ariana Grande</span>,\n",
       " <span class=\"chart-element__information__artist text--truncate color--secondary\">Machine Gun Kelly X blackbear</span>,\n",
       " <span class=\"chart-element__information__artist text--truncate color--secondary\">Drake</span>,\n",
       " <span class=\"chart-element__information__artist text--truncate color--secondary\">Bad Bunny &amp; Jhay Cortez</span>,\n",
       " <span class=\"chart-element__information__artist text--truncate color--secondary\">Billie Eilish</span>,\n",
       " <span class=\"chart-element__information__artist text--truncate color--secondary\">The Kid LAROI</span>,\n",
       " <span class=\"chart-element__information__artist text--truncate color--secondary\">Lil Baby</span>,\n",
       " <span class=\"chart-element__information__artist text--truncate color--secondary\">Ariana Grande</span>,\n",
       " <span class=\"chart-element__information__artist text--truncate color--secondary\">Yung Bleu Featuring Drake</span>,\n",
       " <span class=\"chart-element__information__artist text--truncate color--secondary\">Luke Combs</span>,\n",
       " <span class=\"chart-element__information__artist text--truncate color--secondary\">Drake Featuring Lil Baby</span>,\n",
       " <span class=\"chart-element__information__artist text--truncate color--secondary\">Mooski</span>,\n",
       " <span class=\"chart-element__information__artist text--truncate color--secondary\">Dua Lipa</span>,\n",
       " <span class=\"chart-element__information__artist text--truncate color--secondary\">Glass Animals</span>,\n",
       " <span class=\"chart-element__information__artist text--truncate color--secondary\">Pop Smoke Featuring Lil Baby &amp; DaBaby</span>,\n",
       " <span class=\"chart-element__information__artist text--truncate color--secondary\">Eric Church</span>,\n",
       " <span class=\"chart-element__information__artist text--truncate color--secondary\">Jake Owen</span>,\n",
       " <span class=\"chart-element__information__artist text--truncate color--secondary\">Coi Leray Featuring Lil Durk</span>,\n",
       " <span class=\"chart-element__information__artist text--truncate color--secondary\">SZA</span>,\n",
       " <span class=\"chart-element__information__artist text--truncate color--secondary\">Chris Stapleton</span>,\n",
       " <span class=\"chart-element__information__artist text--truncate color--secondary\">Young Thug &amp; Gunna Featuring Travis Scott</span>,\n",
       " <span class=\"chart-element__information__artist text--truncate color--secondary\">Travis Scott &amp; HVME</span>,\n",
       " <span class=\"chart-element__information__artist text--truncate color--secondary\">Rod Wave</span>,\n",
       " <span class=\"chart-element__information__artist text--truncate color--secondary\">Sam Hunt</span>,\n",
       " <span class=\"chart-element__information__artist text--truncate color--secondary\">Tenille Arts</span>,\n",
       " <span class=\"chart-element__information__artist text--truncate color--secondary\">Doja Cat</span>,\n",
       " <span class=\"chart-element__information__artist text--truncate color--secondary\">Thomas Rhett</span>,\n",
       " <span class=\"chart-element__information__artist text--truncate color--secondary\">Moneybagg Yo</span>,\n",
       " <span class=\"chart-element__information__artist text--truncate color--secondary\">Kali Uchis</span>,\n",
       " <span class=\"chart-element__information__artist text--truncate color--secondary\">Megan Thee Stallion Featuring DaBaby</span>,\n",
       " <span class=\"chart-element__information__artist text--truncate color--secondary\">Justin Bieber</span>,\n",
       " <span class=\"chart-element__information__artist text--truncate color--secondary\">Rod Wave</span>,\n",
       " <span class=\"chart-element__information__artist text--truncate color--secondary\">Parmalee x Blanco Brown</span>,\n",
       " <span class=\"chart-element__information__artist text--truncate color--secondary\">Young Thug Featuring Lil Uzi Vert &amp; Yung Kayo</span>,\n",
       " <span class=\"chart-element__information__artist text--truncate color--secondary\">Taylor Swift</span>,\n",
       " <span class=\"chart-element__information__artist text--truncate color--secondary\">H.E.R.</span>,\n",
       " <span class=\"chart-element__information__artist text--truncate color--secondary\">Rod Wave Featuring Polo G</span>,\n",
       " <span class=\"chart-element__information__artist text--truncate color--secondary\">Dan + Shay</span>,\n",
       " <span class=\"chart-element__information__artist text--truncate color--secondary\">Bad Bunny &amp; Rosalia</span>,\n",
       " <span class=\"chart-element__information__artist text--truncate color--secondary\">Miranda Lambert</span>,\n",
       " <span class=\"chart-element__information__artist text--truncate color--secondary\">Young Thug Featuring Rowdy Rebel</span>,\n",
       " <span class=\"chart-element__information__artist text--truncate color--secondary\">Lil Tjay, Polo G &amp; Fivio Foreign</span>,\n",
       " <span class=\"chart-element__information__artist text--truncate color--secondary\">Justin Bieber</span>,\n",
       " <span class=\"chart-element__information__artist text--truncate color--secondary\">Luke Bryan</span>,\n",
       " <span class=\"chart-element__information__artist text--truncate color--secondary\">Brett Young</span>,\n",
       " <span class=\"chart-element__information__artist text--truncate color--secondary\">Morray</span>,\n",
       " <span class=\"chart-element__information__artist text--truncate color--secondary\">Keith Urban Duet With P!nk</span>,\n",
       " <span class=\"chart-element__information__artist text--truncate color--secondary\">Chris Young + Kane Brown</span>,\n",
       " <span class=\"chart-element__information__artist text--truncate color--secondary\">Dierks Bentley</span>,\n",
       " <span class=\"chart-element__information__artist text--truncate color--secondary\">Ava Max</span>,\n",
       " <span class=\"chart-element__information__artist text--truncate color--secondary\">Jordan Davis</span>,\n",
       " <span class=\"chart-element__information__artist text--truncate color--secondary\">Young Thug &amp; Gunna Featuring Lil Baby &amp; YTB Trench</span>,\n",
       " <span class=\"chart-element__information__artist text--truncate color--secondary\">Tiesto</span>,\n",
       " <span class=\"chart-element__information__artist text--truncate color--secondary\">Elle King &amp; Miranda Lambert</span>,\n",
       " <span class=\"chart-element__information__artist text--truncate color--secondary\">DaBaby</span>,\n",
       " <span class=\"chart-element__information__artist text--truncate color--secondary\">Ariana Grande</span>,\n",
       " <span class=\"chart-element__information__artist text--truncate color--secondary\">Florida Georgia Line</span>,\n",
       " <span class=\"chart-element__information__artist text--truncate color--secondary\">Lil Durk</span>,\n",
       " <span class=\"chart-element__information__artist text--truncate color--secondary\">Imagine Dragons</span>,\n",
       " <span class=\"chart-element__information__artist text--truncate color--secondary\">Dustin Lynch</span>,\n",
       " <span class=\"chart-element__information__artist text--truncate color--secondary\">Dylan Scott</span>,\n",
       " <span class=\"chart-element__information__artist text--truncate color--secondary\">Kevin Gates</span>,\n",
       " <span class=\"chart-element__information__artist text--truncate color--secondary\">Jazmine Sullivan</span>,\n",
       " <span class=\"chart-element__information__artist text--truncate color--secondary\">Nelly &amp; Florida Georgia Line</span>,\n",
       " <span class=\"chart-element__information__artist text--truncate color--secondary\">Taylor Swift</span>,\n",
       " <span class=\"chart-element__information__artist text--truncate color--secondary\">Ryan Hurd With Maren Morris</span>,\n",
       " <span class=\"chart-element__information__artist text--truncate color--secondary\">Morgan Wallen</span>,\n",
       " <span class=\"chart-element__information__artist text--truncate color--secondary\">Lil Tjay Featuring Offset &amp; Moneybagg Yo</span>,\n",
       " <span class=\"chart-element__information__artist text--truncate color--secondary\">Duncan Laurence</span>,\n",
       " <span class=\"chart-element__information__artist text--truncate color--secondary\">VEDO</span>,\n",
       " <span class=\"chart-element__information__artist text--truncate color--secondary\">Moneybagg Yo Featuring BIG30</span>,\n",
       " <span class=\"chart-element__information__artist text--truncate color--secondary\">Future &amp; Lil Uzi Vert</span>,\n",
       " <span class=\"chart-element__information__artist text--truncate color--secondary\">All Time Low Featuring Demi Lovato &amp; blackbear </span>,\n",
       " <span class=\"chart-element__information__artist text--truncate color--secondary\">Young Thug &amp; Gunna Featuring Yak Gotti &amp; Lil Duke</span>,\n",
       " <span class=\"chart-element__information__artist text--truncate color--secondary\">42 Dugg &amp; Roddy Ricch</span>]"
      ]
     },
     "execution_count": 11,
     "metadata": {},
     "output_type": "execute_result"
    }
   ],
   "source": [
    "soup.select(\"span.chart-element__information__artist\")"
   ]
  },
  {
   "cell_type": "code",
   "execution_count": 12,
   "metadata": {},
   "outputs": [
    {
     "data": {
      "text/plain": [
       "'Polo G'"
      ]
     },
     "execution_count": 12,
     "metadata": {},
     "output_type": "execute_result"
    }
   ],
   "source": [
    "soup.select(\"span.chart-element__information__artist\")[0].text"
   ]
  },
  {
   "cell_type": "markdown",
   "metadata": {},
   "source": [
    "### For all Songs in Hot 100"
   ]
  },
  {
   "cell_type": "code",
   "execution_count": 16,
   "metadata": {},
   "outputs": [
    {
     "data": {
      "text/plain": [
       "[<span class=\"chart-element__information__song text--truncate color--primary\">Rapstar</span>,\n",
       " <span class=\"chart-element__information__song text--truncate color--primary\">Leave The Door Open</span>,\n",
       " <span class=\"chart-element__information__song text--truncate color--primary\">Peaches</span>,\n",
       " <span class=\"chart-element__information__song text--truncate color--primary\">Montero (Call Me By Your Name)</span>,\n",
       " <span class=\"chart-element__information__song text--truncate color--primary\">Levitating</span>,\n",
       " <span class=\"chart-element__information__song text--truncate color--primary\">Save Your Tears</span>,\n",
       " <span class=\"chart-element__information__song text--truncate color--primary\">Astronaut In The Ocean</span>,\n",
       " <span class=\"chart-element__information__song text--truncate color--primary\">Kiss Me More</span>,\n",
       " <span class=\"chart-element__information__song text--truncate color--primary\">Up</span>,\n",
       " <span class=\"chart-element__information__song text--truncate color--primary\">Drivers License</span>,\n",
       " <span class=\"chart-element__information__song text--truncate color--primary\">Deja Vu</span>,\n",
       " <span class=\"chart-element__information__song text--truncate color--primary\">Solid</span>,\n",
       " <span class=\"chart-element__information__song text--truncate color--primary\">Blinding Lights</span>,\n",
       " <span class=\"chart-element__information__song text--truncate color--primary\">Beat Box</span>,\n",
       " <span class=\"chart-element__information__song text--truncate color--primary\">Best Friend</span>,\n",
       " <span class=\"chart-element__information__song text--truncate color--primary\">Calling My Phone</span>,\n",
       " <span class=\"chart-element__information__song text--truncate color--primary\">What You Know Bout Love</span>,\n",
       " <span class=\"chart-element__information__song text--truncate color--primary\">Ski</span>,\n",
       " <span class=\"chart-element__information__song text--truncate color--primary\">Mood</span>,\n",
       " <span class=\"chart-element__information__song text--truncate color--primary\">Heartbreak Anniversary</span>,\n",
       " <span class=\"chart-element__information__song text--truncate color--primary\">The Good Ones</span>,\n",
       " <span class=\"chart-element__information__song text--truncate color--primary\">Beautiful Mistakes</span>,\n",
       " <span class=\"chart-element__information__song text--truncate color--primary\">Back In Blood</span>,\n",
       " <span class=\"chart-element__information__song text--truncate color--primary\">Go Crazy</span>,\n",
       " <span class=\"chart-element__information__song text--truncate color--primary\">You Broke Me First.</span>,\n",
       " <span class=\"chart-element__information__song text--truncate color--primary\">34+35</span>,\n",
       " <span class=\"chart-element__information__song text--truncate color--primary\">My Ex's Best Friend</span>,\n",
       " <span class=\"chart-element__information__song text--truncate color--primary\">What's Next</span>,\n",
       " <span class=\"chart-element__information__song text--truncate color--primary\">Dakiti</span>,\n",
       " <span class=\"chart-element__information__song text--truncate color--primary\">Therefore I Am</span>,\n",
       " <span class=\"chart-element__information__song text--truncate color--primary\">Without You</span>,\n",
       " <span class=\"chart-element__information__song text--truncate color--primary\">On Me</span>,\n",
       " <span class=\"chart-element__information__song text--truncate color--primary\">Positions</span>,\n",
       " <span class=\"chart-element__information__song text--truncate color--primary\">You're Mines Still</span>,\n",
       " <span class=\"chart-element__information__song text--truncate color--primary\">Forever After All</span>,\n",
       " <span class=\"chart-element__information__song text--truncate color--primary\">Wants And Needs</span>,\n",
       " <span class=\"chart-element__information__song text--truncate color--primary\">Track Star</span>,\n",
       " <span class=\"chart-element__information__song text--truncate color--primary\">We're Good</span>,\n",
       " <span class=\"chart-element__information__song text--truncate color--primary\">Heat Waves</span>,\n",
       " <span class=\"chart-element__information__song text--truncate color--primary\">For The Night</span>,\n",
       " <span class=\"chart-element__information__song text--truncate color--primary\">Hell Of A View</span>,\n",
       " <span class=\"chart-element__information__song text--truncate color--primary\">Made For You</span>,\n",
       " <span class=\"chart-element__information__song text--truncate color--primary\">No More Parties</span>,\n",
       " <span class=\"chart-element__information__song text--truncate color--primary\">Good Days</span>,\n",
       " <span class=\"chart-element__information__song text--truncate color--primary\">Starting Over</span>,\n",
       " <span class=\"chart-element__information__song text--truncate color--primary\">Diamonds Dancing</span>,\n",
       " <span class=\"chart-element__information__song text--truncate color--primary\">Goosebumps</span>,\n",
       " <span class=\"chart-element__information__song text--truncate color--primary\">Tombstone</span>,\n",
       " <span class=\"chart-element__information__song text--truncate color--primary\">Breaking Up Was Easy In The 90's</span>,\n",
       " <span class=\"chart-element__information__song text--truncate color--primary\">Somebody Like That</span>,\n",
       " <span class=\"chart-element__information__song text--truncate color--primary\">Streets</span>,\n",
       " <span class=\"chart-element__information__song text--truncate color--primary\">What's Your Country Song</span>,\n",
       " <span class=\"chart-element__information__song text--truncate color--primary\">Time Today</span>,\n",
       " <span class=\"chart-element__information__song text--truncate color--primary\">Telepatia</span>,\n",
       " <span class=\"chart-element__information__song text--truncate color--primary\">Cry Baby</span>,\n",
       " <span class=\"chart-element__information__song text--truncate color--primary\">Hold On</span>,\n",
       " <span class=\"chart-element__information__song text--truncate color--primary\">Street Runner</span>,\n",
       " <span class=\"chart-element__information__song text--truncate color--primary\">Just The Way</span>,\n",
       " <span class=\"chart-element__information__song text--truncate color--primary\">Proud Of You</span>,\n",
       " <span class=\"chart-element__information__song text--truncate color--primary\">Willow</span>,\n",
       " <span class=\"chart-element__information__song text--truncate color--primary\">Damage</span>,\n",
       " <span class=\"chart-element__information__song text--truncate color--primary\">Richer</span>,\n",
       " <span class=\"chart-element__information__song text--truncate color--primary\">Glad You Exist</span>,\n",
       " <span class=\"chart-element__information__song text--truncate color--primary\">La Noche de Anoche</span>,\n",
       " <span class=\"chart-element__information__song text--truncate color--primary\">Settling Down</span>,\n",
       " <span class=\"chart-element__information__song text--truncate color--primary\">Came And Saw</span>,\n",
       " <span class=\"chart-element__information__song text--truncate color--primary\">Headshot</span>,\n",
       " <span class=\"chart-element__information__song text--truncate color--primary\">Anyone</span>,\n",
       " <span class=\"chart-element__information__song text--truncate color--primary\">Down To One</span>,\n",
       " <span class=\"chart-element__information__song text--truncate color--primary\">Lady</span>,\n",
       " <span class=\"chart-element__information__song text--truncate color--primary\">Quicksand</span>,\n",
       " <span class=\"chart-element__information__song text--truncate color--primary\">One Too Many</span>,\n",
       " <span class=\"chart-element__information__song text--truncate color--primary\">Famous Friends</span>,\n",
       " <span class=\"chart-element__information__song text--truncate color--primary\">Gone</span>,\n",
       " <span class=\"chart-element__information__song text--truncate color--primary\">My Head And My Heart</span>,\n",
       " <span class=\"chart-element__information__song text--truncate color--primary\">Almost Maybes</span>,\n",
       " <span class=\"chart-element__information__song text--truncate color--primary\">Paid The Fine</span>,\n",
       " <span class=\"chart-element__information__song text--truncate color--primary\">The Business</span>,\n",
       " <span class=\"chart-element__information__song text--truncate color--primary\">Drunk (And I Don't Wanna Go Home)</span>,\n",
       " <span class=\"chart-element__information__song text--truncate color--primary\">Masterpiece</span>,\n",
       " <span class=\"chart-element__information__song text--truncate color--primary\">pov</span>,\n",
       " <span class=\"chart-element__information__song text--truncate color--primary\">Long Live</span>,\n",
       " <span class=\"chart-element__information__song text--truncate color--primary\">Hellcats &amp; Trackhawks</span>,\n",
       " <span class=\"chart-element__information__song text--truncate color--primary\">Follow You</span>,\n",
       " <span class=\"chart-element__information__song text--truncate color--primary\">Momma's House</span>,\n",
       " <span class=\"chart-element__information__song text--truncate color--primary\">Nobody</span>,\n",
       " <span class=\"chart-element__information__song text--truncate color--primary\">Big Gangsta</span>,\n",
       " <span class=\"chart-element__information__song text--truncate color--primary\">Pick Up Your Feelings</span>,\n",
       " <span class=\"chart-element__information__song text--truncate color--primary\">Lil Bit</span>,\n",
       " <span class=\"chart-element__information__song text--truncate color--primary\">Mr. Perfectly Fine (Taylor's Version) (From The Vault)</span>,\n",
       " <span class=\"chart-element__information__song text--truncate color--primary\">Chasing After You</span>,\n",
       " <span class=\"chart-element__information__song text--truncate color--primary\">Wasted On You</span>,\n",
       " <span class=\"chart-element__information__song text--truncate color--primary\">Run It Up</span>,\n",
       " <span class=\"chart-element__information__song text--truncate color--primary\">Arcade</span>,\n",
       " <span class=\"chart-element__information__song text--truncate color--primary\">You Got It</span>,\n",
       " <span class=\"chart-element__information__song text--truncate color--primary\">Go!</span>,\n",
       " <span class=\"chart-element__information__song text--truncate color--primary\">Drankin N Smokin</span>,\n",
       " <span class=\"chart-element__information__song text--truncate color--primary\">Monsters</span>,\n",
       " <span class=\"chart-element__information__song text--truncate color--primary\">Slatty</span>,\n",
       " <span class=\"chart-element__information__song text--truncate color--primary\">4 Da Gang</span>]"
      ]
     },
     "execution_count": 16,
     "metadata": {},
     "output_type": "execute_result"
    }
   ],
   "source": [
    "song_lst = soup.select(\"span.chart-element__information__song\")\n",
    "song_lst\n"
   ]
  },
  {
   "cell_type": "code",
   "execution_count": 21,
   "metadata": {},
   "outputs": [
    {
     "data": {
      "application/vnd.jupyter.widget-view+json": {
       "model_id": "c190bf730a184b868cdebac08ba5766a",
       "version_major": 2,
       "version_minor": 0
      },
      "text/plain": [
       "HBox(children=(HTML(value=''), FloatProgress(value=0.0), HTML(value='')))"
      ]
     },
     "metadata": {},
     "output_type": "display_data"
    },
    {
     "name": "stdout",
     "output_type": "stream",
     "text": [
      "\n"
     ]
    }
   ],
   "source": [
    "song = []\n",
    "artist = []\n",
    "\n",
    "len_song = len(song_lst)\n",
    "\n",
    "for i in tqdm(range(len_song)):\n",
    "    song.append(soup.select(\"span.chart-element__information__song\")[i].text)\n",
    "    artist.append(soup.select(\"span.chart-element__information__artist\")[i].text)\n"
   ]
  },
  {
   "cell_type": "code",
   "execution_count": 22,
   "metadata": {},
   "outputs": [
    {
     "data": {
      "text/plain": [
       "['Rapstar',\n",
       " 'Leave The Door Open',\n",
       " 'Peaches',\n",
       " 'Montero (Call Me By Your Name)',\n",
       " 'Levitating',\n",
       " 'Save Your Tears',\n",
       " 'Astronaut In The Ocean',\n",
       " 'Kiss Me More',\n",
       " 'Up',\n",
       " 'Drivers License',\n",
       " 'Deja Vu',\n",
       " 'Solid',\n",
       " 'Blinding Lights',\n",
       " 'Beat Box',\n",
       " 'Best Friend',\n",
       " 'Calling My Phone',\n",
       " 'What You Know Bout Love',\n",
       " 'Ski',\n",
       " 'Mood',\n",
       " 'Heartbreak Anniversary',\n",
       " 'The Good Ones',\n",
       " 'Beautiful Mistakes',\n",
       " 'Back In Blood',\n",
       " 'Go Crazy',\n",
       " 'You Broke Me First.',\n",
       " '34+35',\n",
       " \"My Ex's Best Friend\",\n",
       " \"What's Next\",\n",
       " 'Dakiti',\n",
       " 'Therefore I Am',\n",
       " 'Without You',\n",
       " 'On Me',\n",
       " 'Positions',\n",
       " \"You're Mines Still\",\n",
       " 'Forever After All',\n",
       " 'Wants And Needs',\n",
       " 'Track Star',\n",
       " \"We're Good\",\n",
       " 'Heat Waves',\n",
       " 'For The Night',\n",
       " 'Hell Of A View',\n",
       " 'Made For You',\n",
       " 'No More Parties',\n",
       " 'Good Days',\n",
       " 'Starting Over',\n",
       " 'Diamonds Dancing',\n",
       " 'Goosebumps',\n",
       " 'Tombstone',\n",
       " \"Breaking Up Was Easy In The 90's\",\n",
       " 'Somebody Like That',\n",
       " 'Streets',\n",
       " \"What's Your Country Song\",\n",
       " 'Time Today',\n",
       " 'Telepatia',\n",
       " 'Cry Baby',\n",
       " 'Hold On',\n",
       " 'Street Runner',\n",
       " 'Just The Way',\n",
       " 'Proud Of You',\n",
       " 'Willow',\n",
       " 'Damage',\n",
       " 'Richer',\n",
       " 'Glad You Exist',\n",
       " 'La Noche de Anoche',\n",
       " 'Settling Down',\n",
       " 'Came And Saw',\n",
       " 'Headshot',\n",
       " 'Anyone',\n",
       " 'Down To One',\n",
       " 'Lady',\n",
       " 'Quicksand',\n",
       " 'One Too Many',\n",
       " 'Famous Friends',\n",
       " 'Gone',\n",
       " 'My Head And My Heart',\n",
       " 'Almost Maybes',\n",
       " 'Paid The Fine',\n",
       " 'The Business',\n",
       " \"Drunk (And I Don't Wanna Go Home)\",\n",
       " 'Masterpiece',\n",
       " 'pov',\n",
       " 'Long Live',\n",
       " 'Hellcats & Trackhawks',\n",
       " 'Follow You',\n",
       " \"Momma's House\",\n",
       " 'Nobody',\n",
       " 'Big Gangsta',\n",
       " 'Pick Up Your Feelings',\n",
       " 'Lil Bit',\n",
       " \"Mr. Perfectly Fine (Taylor's Version) (From The Vault)\",\n",
       " 'Chasing After You',\n",
       " 'Wasted On You',\n",
       " 'Run It Up',\n",
       " 'Arcade',\n",
       " 'You Got It',\n",
       " 'Go!',\n",
       " 'Drankin N Smokin',\n",
       " 'Monsters',\n",
       " 'Slatty',\n",
       " '4 Da Gang']"
      ]
     },
     "execution_count": 22,
     "metadata": {},
     "output_type": "execute_result"
    }
   ],
   "source": [
    "song"
   ]
  },
  {
   "cell_type": "code",
   "execution_count": 23,
   "metadata": {},
   "outputs": [
    {
     "data": {
      "text/plain": [
       "['Polo G',\n",
       " 'Silk Sonic (Bruno Mars & Anderson .Paak)',\n",
       " 'Justin Bieber Featuring Daniel Caesar & Giveon',\n",
       " 'Lil Nas X',\n",
       " 'Dua Lipa Featuring DaBaby',\n",
       " 'The Weeknd',\n",
       " 'Masked Wolf',\n",
       " 'Doja Cat Featuring SZA',\n",
       " 'Cardi B',\n",
       " 'Olivia Rodrigo',\n",
       " 'Olivia Rodrigo',\n",
       " 'Young Thug & Gunna Featuring Drake',\n",
       " 'The Weeknd',\n",
       " 'SpotemGottem Featuring Pooh Shiesty Or DaBaby',\n",
       " 'Saweetie Featuring Doja Cat',\n",
       " 'Lil Tjay Featuring 6LACK',\n",
       " 'Pop Smoke',\n",
       " 'Young Thug & Gunna',\n",
       " '24kGoldn Featuring iann dior',\n",
       " 'Giveon',\n",
       " 'Gabby Barrett',\n",
       " 'Maroon 5 Featuring Megan Thee Stallion',\n",
       " 'Pooh Shiesty Featuring Lil Durk',\n",
       " 'Chris Brown & Young Thug',\n",
       " 'Tate McRae',\n",
       " 'Ariana Grande',\n",
       " 'Machine Gun Kelly X blackbear',\n",
       " 'Drake',\n",
       " 'Bad Bunny & Jhay Cortez',\n",
       " 'Billie Eilish',\n",
       " 'The Kid LAROI',\n",
       " 'Lil Baby',\n",
       " 'Ariana Grande',\n",
       " 'Yung Bleu Featuring Drake',\n",
       " 'Luke Combs',\n",
       " 'Drake Featuring Lil Baby',\n",
       " 'Mooski',\n",
       " 'Dua Lipa',\n",
       " 'Glass Animals',\n",
       " 'Pop Smoke Featuring Lil Baby & DaBaby',\n",
       " 'Eric Church',\n",
       " 'Jake Owen',\n",
       " 'Coi Leray Featuring Lil Durk',\n",
       " 'SZA',\n",
       " 'Chris Stapleton',\n",
       " 'Young Thug & Gunna Featuring Travis Scott',\n",
       " 'Travis Scott & HVME',\n",
       " 'Rod Wave',\n",
       " 'Sam Hunt',\n",
       " 'Tenille Arts',\n",
       " 'Doja Cat',\n",
       " 'Thomas Rhett',\n",
       " 'Moneybagg Yo',\n",
       " 'Kali Uchis',\n",
       " 'Megan Thee Stallion Featuring DaBaby',\n",
       " 'Justin Bieber',\n",
       " 'Rod Wave',\n",
       " 'Parmalee x Blanco Brown',\n",
       " 'Young Thug Featuring Lil Uzi Vert & Yung Kayo',\n",
       " 'Taylor Swift',\n",
       " 'H.E.R.',\n",
       " 'Rod Wave Featuring Polo G',\n",
       " 'Dan + Shay',\n",
       " 'Bad Bunny & Rosalia',\n",
       " 'Miranda Lambert',\n",
       " 'Young Thug Featuring Rowdy Rebel',\n",
       " 'Lil Tjay, Polo G & Fivio Foreign',\n",
       " 'Justin Bieber',\n",
       " 'Luke Bryan',\n",
       " 'Brett Young',\n",
       " 'Morray',\n",
       " 'Keith Urban Duet With P!nk',\n",
       " 'Chris Young + Kane Brown',\n",
       " 'Dierks Bentley',\n",
       " 'Ava Max',\n",
       " 'Jordan Davis',\n",
       " 'Young Thug & Gunna Featuring Lil Baby & YTB Trench',\n",
       " 'Tiesto',\n",
       " 'Elle King & Miranda Lambert',\n",
       " 'DaBaby',\n",
       " 'Ariana Grande',\n",
       " 'Florida Georgia Line',\n",
       " 'Lil Durk',\n",
       " 'Imagine Dragons',\n",
       " 'Dustin Lynch',\n",
       " 'Dylan Scott',\n",
       " 'Kevin Gates',\n",
       " 'Jazmine Sullivan',\n",
       " 'Nelly & Florida Georgia Line',\n",
       " 'Taylor Swift',\n",
       " 'Ryan Hurd With Maren Morris',\n",
       " 'Morgan Wallen',\n",
       " 'Lil Tjay Featuring Offset & Moneybagg Yo',\n",
       " 'Duncan Laurence',\n",
       " 'VEDO',\n",
       " 'Moneybagg Yo Featuring BIG30',\n",
       " 'Future & Lil Uzi Vert',\n",
       " 'All Time Low Featuring Demi Lovato & blackbear ',\n",
       " 'Young Thug & Gunna Featuring Yak Gotti & Lil Duke',\n",
       " '42 Dugg & Roddy Ricch']"
      ]
     },
     "execution_count": 23,
     "metadata": {},
     "output_type": "execute_result"
    }
   ],
   "source": [
    "artist"
   ]
  },
  {
   "cell_type": "code",
   "execution_count": 27,
   "metadata": {},
   "outputs": [],
   "source": [
    "Billboard_top100 = pd.DataFrame({'title': song, 'Artist': artist})"
   ]
  },
  {
   "cell_type": "code",
   "execution_count": 28,
   "metadata": {},
   "outputs": [
    {
     "data": {
      "text/html": [
       "<div>\n",
       "<style scoped>\n",
       "    .dataframe tbody tr th:only-of-type {\n",
       "        vertical-align: middle;\n",
       "    }\n",
       "\n",
       "    .dataframe tbody tr th {\n",
       "        vertical-align: top;\n",
       "    }\n",
       "\n",
       "    .dataframe thead th {\n",
       "        text-align: right;\n",
       "    }\n",
       "</style>\n",
       "<table border=\"1\" class=\"dataframe\">\n",
       "  <thead>\n",
       "    <tr style=\"text-align: right;\">\n",
       "      <th></th>\n",
       "      <th>title</th>\n",
       "      <th>Artist</th>\n",
       "    </tr>\n",
       "  </thead>\n",
       "  <tbody>\n",
       "    <tr>\n",
       "      <th>0</th>\n",
       "      <td>Rapstar</td>\n",
       "      <td>Polo G</td>\n",
       "    </tr>\n",
       "    <tr>\n",
       "      <th>1</th>\n",
       "      <td>Leave The Door Open</td>\n",
       "      <td>Silk Sonic (Bruno Mars &amp; Anderson .Paak)</td>\n",
       "    </tr>\n",
       "    <tr>\n",
       "      <th>2</th>\n",
       "      <td>Peaches</td>\n",
       "      <td>Justin Bieber Featuring Daniel Caesar &amp; Giveon</td>\n",
       "    </tr>\n",
       "    <tr>\n",
       "      <th>3</th>\n",
       "      <td>Montero (Call Me By Your Name)</td>\n",
       "      <td>Lil Nas X</td>\n",
       "    </tr>\n",
       "    <tr>\n",
       "      <th>4</th>\n",
       "      <td>Levitating</td>\n",
       "      <td>Dua Lipa Featuring DaBaby</td>\n",
       "    </tr>\n",
       "    <tr>\n",
       "      <th>...</th>\n",
       "      <td>...</td>\n",
       "      <td>...</td>\n",
       "    </tr>\n",
       "    <tr>\n",
       "      <th>95</th>\n",
       "      <td>Go!</td>\n",
       "      <td>Moneybagg Yo Featuring BIG30</td>\n",
       "    </tr>\n",
       "    <tr>\n",
       "      <th>96</th>\n",
       "      <td>Drankin N Smokin</td>\n",
       "      <td>Future &amp; Lil Uzi Vert</td>\n",
       "    </tr>\n",
       "    <tr>\n",
       "      <th>97</th>\n",
       "      <td>Monsters</td>\n",
       "      <td>All Time Low Featuring Demi Lovato &amp; blackbear</td>\n",
       "    </tr>\n",
       "    <tr>\n",
       "      <th>98</th>\n",
       "      <td>Slatty</td>\n",
       "      <td>Young Thug &amp; Gunna Featuring Yak Gotti &amp; Lil Duke</td>\n",
       "    </tr>\n",
       "    <tr>\n",
       "      <th>99</th>\n",
       "      <td>4 Da Gang</td>\n",
       "      <td>42 Dugg &amp; Roddy Ricch</td>\n",
       "    </tr>\n",
       "  </tbody>\n",
       "</table>\n",
       "<p>100 rows × 2 columns</p>\n",
       "</div>"
      ],
      "text/plain": [
       "                             title  \\\n",
       "0                          Rapstar   \n",
       "1              Leave The Door Open   \n",
       "2                          Peaches   \n",
       "3   Montero (Call Me By Your Name)   \n",
       "4                       Levitating   \n",
       "..                             ...   \n",
       "95                             Go!   \n",
       "96                Drankin N Smokin   \n",
       "97                        Monsters   \n",
       "98                          Slatty   \n",
       "99                       4 Da Gang   \n",
       "\n",
       "                                               Artist  \n",
       "0                                              Polo G  \n",
       "1            Silk Sonic (Bruno Mars & Anderson .Paak)  \n",
       "2      Justin Bieber Featuring Daniel Caesar & Giveon  \n",
       "3                                           Lil Nas X  \n",
       "4                           Dua Lipa Featuring DaBaby  \n",
       "..                                                ...  \n",
       "95                       Moneybagg Yo Featuring BIG30  \n",
       "96                              Future & Lil Uzi Vert  \n",
       "97    All Time Low Featuring Demi Lovato & blackbear   \n",
       "98  Young Thug & Gunna Featuring Yak Gotti & Lil Duke  \n",
       "99                              42 Dugg & Roddy Ricch  \n",
       "\n",
       "[100 rows x 2 columns]"
      ]
     },
     "execution_count": 28,
     "metadata": {},
     "output_type": "execute_result"
    }
   ],
   "source": [
    "Billboard_top100"
   ]
  },
  {
   "cell_type": "code",
   "execution_count": null,
   "metadata": {},
   "outputs": [],
   "source": []
  },
  {
   "cell_type": "code",
   "execution_count": null,
   "metadata": {},
   "outputs": [],
   "source": []
  },
  {
   "cell_type": "code",
   "execution_count": null,
   "metadata": {},
   "outputs": [],
   "source": []
  }
 ],
 "metadata": {
  "kernelspec": {
   "display_name": "Python 3",
   "language": "python",
   "name": "python3"
  },
  "language_info": {
   "codemirror_mode": {
    "name": "ipython",
    "version": 3
   },
   "file_extension": ".py",
   "mimetype": "text/x-python",
   "name": "python",
   "nbconvert_exporter": "python",
   "pygments_lexer": "ipython3",
   "version": "3.8.5"
  }
 },
 "nbformat": 4,
 "nbformat_minor": 5
}
